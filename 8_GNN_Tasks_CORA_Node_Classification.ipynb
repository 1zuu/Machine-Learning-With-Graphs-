{
  "nbformat": 4,
  "nbformat_minor": 0,
  "metadata": {
    "colab": {
      "name": "8_GNN_Tasks_CORA_Node_Classification.ipynb",
      "provenance": [],
      "collapsed_sections": [],
      "authorship_tag": "ABX9TyN2/VNGhzIZi500AfZ6gqv8",
      "include_colab_link": true
    },
    "kernelspec": {
      "name": "python3",
      "display_name": "Python 3"
    },
    "language_info": {
      "name": "python"
    },
    "accelerator": "GPU",
    "gpuClass": "standard"
  },
  "cells": [
    {
      "cell_type": "markdown",
      "metadata": {
        "id": "view-in-github",
        "colab_type": "text"
      },
      "source": [
        "<a href=\"https://colab.research.google.com/github/1zuu/Machine-Learning-With-Graphs/blob/main/8_GNN_Tasks_CORA_Node_Classification.ipynb\" target=\"_parent\"><img src=\"https://colab.research.google.com/assets/colab-badge.svg\" alt=\"Open In Colab\"/></a>"
      ]
    },
    {
      "cell_type": "code",
      "execution_count": 1,
      "metadata": {
        "colab": {
          "base_uri": "https://localhost:8080/"
        },
        "id": "KMJdyUI6Cn0q",
        "outputId": "0e279470-b436-4558-b7a8-9c83b7f3caf1"
      },
      "outputs": [
        {
          "output_type": "stream",
          "name": "stdout",
          "text": [
            "Looking in indexes: https://pypi.org/simple, https://us-python.pkg.dev/colab-wheels/public/simple/\n",
            "Looking in links: https://data.pyg.org/whl/torch-1.12.0+cu113.html\n",
            "Collecting torch-scatter\n",
            "  Downloading https://data.pyg.org/whl/torch-1.12.0%2Bcu113/torch_scatter-2.0.9-cp37-cp37m-linux_x86_64.whl (7.9 MB)\n",
            "\u001b[K     |████████████████████████████████| 7.9 MB 2.9 MB/s \n",
            "\u001b[?25hInstalling collected packages: torch-scatter\n",
            "Successfully installed torch-scatter-2.0.9\n",
            "Looking in indexes: https://pypi.org/simple, https://us-python.pkg.dev/colab-wheels/public/simple/\n",
            "Looking in links: https://data.pyg.org/whl/torch-1.12.0+cu113.html\n",
            "Collecting torch-sparse\n",
            "  Downloading https://data.pyg.org/whl/torch-1.12.0%2Bcu113/torch_sparse-0.6.14-cp37-cp37m-linux_x86_64.whl (3.5 MB)\n",
            "\u001b[K     |████████████████████████████████| 3.5 MB 2.9 MB/s \n",
            "\u001b[?25hRequirement already satisfied: scipy in /usr/local/lib/python3.7/dist-packages (from torch-sparse) (1.7.3)\n",
            "Requirement already satisfied: numpy<1.23.0,>=1.16.5 in /usr/local/lib/python3.7/dist-packages (from scipy->torch-sparse) (1.21.6)\n",
            "Installing collected packages: torch-sparse\n",
            "Successfully installed torch-sparse-0.6.14\n",
            "Looking in indexes: https://pypi.org/simple, https://us-python.pkg.dev/colab-wheels/public/simple/\n",
            "Looking in links: https://data.pyg.org/whl/torch-1.12.0+cu113.html\n",
            "Collecting torch-cluster\n",
            "  Downloading https://data.pyg.org/whl/torch-1.12.0%2Bcu113/torch_cluster-1.6.0-cp37-cp37m-linux_x86_64.whl (2.4 MB)\n",
            "\u001b[K     |████████████████████████████████| 2.4 MB 2.4 MB/s \n",
            "\u001b[?25hInstalling collected packages: torch-cluster\n",
            "Successfully installed torch-cluster-1.6.0\n",
            "Looking in indexes: https://pypi.org/simple, https://us-python.pkg.dev/colab-wheels/public/simple/\n",
            "Looking in links: https://data.pyg.org/whl/torch-1.12.0+cu113.html\n",
            "Collecting torch-spline-conv\n",
            "  Downloading https://data.pyg.org/whl/torch-1.12.0%2Bcu113/torch_spline_conv-1.2.1-cp37-cp37m-linux_x86_64.whl (709 kB)\n",
            "\u001b[K     |████████████████████████████████| 709 kB 2.8 MB/s \n",
            "\u001b[?25hInstalling collected packages: torch-spline-conv\n",
            "Successfully installed torch-spline-conv-1.2.1\n",
            "Looking in indexes: https://pypi.org/simple, https://us-python.pkg.dev/colab-wheels/public/simple/\n",
            "Collecting torch-geometric\n",
            "  Downloading torch_geometric-2.0.4.tar.gz (407 kB)\n",
            "\u001b[K     |████████████████████████████████| 407 kB 5.1 MB/s \n",
            "\u001b[?25hRequirement already satisfied: tqdm in /usr/local/lib/python3.7/dist-packages (from torch-geometric) (4.64.0)\n",
            "Requirement already satisfied: numpy in /usr/local/lib/python3.7/dist-packages (from torch-geometric) (1.21.6)\n",
            "Requirement already satisfied: scipy in /usr/local/lib/python3.7/dist-packages (from torch-geometric) (1.7.3)\n",
            "Requirement already satisfied: pandas in /usr/local/lib/python3.7/dist-packages (from torch-geometric) (1.3.5)\n",
            "Requirement already satisfied: jinja2 in /usr/local/lib/python3.7/dist-packages (from torch-geometric) (2.11.3)\n",
            "Requirement already satisfied: requests in /usr/local/lib/python3.7/dist-packages (from torch-geometric) (2.23.0)\n",
            "Requirement already satisfied: pyparsing in /usr/local/lib/python3.7/dist-packages (from torch-geometric) (3.0.9)\n",
            "Requirement already satisfied: scikit-learn in /usr/local/lib/python3.7/dist-packages (from torch-geometric) (1.0.2)\n",
            "Requirement already satisfied: MarkupSafe>=0.23 in /usr/local/lib/python3.7/dist-packages (from jinja2->torch-geometric) (2.0.1)\n",
            "Requirement already satisfied: python-dateutil>=2.7.3 in /usr/local/lib/python3.7/dist-packages (from pandas->torch-geometric) (2.8.2)\n",
            "Requirement already satisfied: pytz>=2017.3 in /usr/local/lib/python3.7/dist-packages (from pandas->torch-geometric) (2022.1)\n",
            "Requirement already satisfied: six>=1.5 in /usr/local/lib/python3.7/dist-packages (from python-dateutil>=2.7.3->pandas->torch-geometric) (1.15.0)\n",
            "Requirement already satisfied: urllib3!=1.25.0,!=1.25.1,<1.26,>=1.21.1 in /usr/local/lib/python3.7/dist-packages (from requests->torch-geometric) (1.24.3)\n",
            "Requirement already satisfied: chardet<4,>=3.0.2 in /usr/local/lib/python3.7/dist-packages (from requests->torch-geometric) (3.0.4)\n",
            "Requirement already satisfied: certifi>=2017.4.17 in /usr/local/lib/python3.7/dist-packages (from requests->torch-geometric) (2022.6.15)\n",
            "Requirement already satisfied: idna<3,>=2.5 in /usr/local/lib/python3.7/dist-packages (from requests->torch-geometric) (2.10)\n",
            "Requirement already satisfied: joblib>=0.11 in /usr/local/lib/python3.7/dist-packages (from scikit-learn->torch-geometric) (1.1.0)\n",
            "Requirement already satisfied: threadpoolctl>=2.0.0 in /usr/local/lib/python3.7/dist-packages (from scikit-learn->torch-geometric) (3.1.0)\n",
            "Building wheels for collected packages: torch-geometric\n",
            "  Building wheel for torch-geometric (setup.py) ... \u001b[?25l\u001b[?25hdone\n",
            "  Created wheel for torch-geometric: filename=torch_geometric-2.0.4-py3-none-any.whl size=616603 sha256=8a1256862cd02ccf4537bb39408244c4365e241de8e0faa4d1072316259b7b0a\n",
            "  Stored in directory: /root/.cache/pip/wheels/18/a6/a4/ca18c3051fcead866fe7b85700ee2240d883562a1bc70ce421\n",
            "Successfully built torch-geometric\n",
            "Installing collected packages: torch-geometric\n",
            "Successfully installed torch-geometric-2.0.4\n"
          ]
        }
      ],
      "source": [
        "import torch\n",
        "\n",
        "def format_pytorch_version(version):\n",
        "    return version.split('+')[0]\n",
        "\n",
        "TORCH_version = torch.__version__\n",
        "TORCH = format_pytorch_version(TORCH_version)\n",
        "\n",
        "def format_cuda_version(version):\n",
        "    return 'cu' + version.replace('.', '')\n",
        "\n",
        "CUDA_version = torch.version.cuda\n",
        "CUDA = format_cuda_version(CUDA_version)\n",
        "\n",
        "!pip install torch-scatter -f https://data.pyg.org/whl/torch-{TORCH}+{CUDA}.html\n",
        "!pip install torch-sparse -f https://data.pyg.org/whl/torch-{TORCH}+{CUDA}.html\n",
        "!pip install torch-cluster -f https://data.pyg.org/whl/torch-{TORCH}+{CUDA}.html\n",
        "!pip install torch-spline-conv -f https://data.pyg.org/whl/torch-{TORCH}+{CUDA}.html\n",
        "!pip install torch-geometric"
      ]
    },
    {
      "cell_type": "code",
      "source": [
        "import torch, os\n",
        "import torch_geometric\n",
        "from torch.nn import Linear\n",
        "import torch.nn.functional as F\n",
        "from torch_geometric.data import DataLoader\n",
        "from torch_geometric.datasets import Planetoid\n",
        "from torch_geometric.utils.convert import to_networkx\n",
        "from torch_geometric.transforms import NormalizeFeatures\n",
        "from torch_geometric.nn import GCNConv, TopKPooling, global_mean_pool\n",
        "from torch_geometric.nn import global_mean_pool as gap, global_max_pool as gmp\n",
        "\n",
        "import numpy as np\n",
        "import pandas as pd\n",
        "import networkx as nx\n",
        "import seaborn as sns\n",
        "import matplotlib.pyplot as plt\n",
        "from sklearn.utils import shuffle\n",
        "from itertools import combinations\n",
        "from matplotlib import pyplot as plt"
      ],
      "metadata": {
        "id": "n5ibzsqxDiPQ"
      },
      "execution_count": 2,
      "outputs": []
    },
    {
      "cell_type": "code",
      "source": [
        "working_dir = '/content/drive/My Drive/Colab Notebooks/machine-learning-with-graphs/'\n",
        "collection = 'Planetoid'\n",
        "dataset = 'Cora'\n",
        "\n",
        "data_dir = os.path.join(working_dir, collection)"
      ],
      "metadata": {
        "id": "3fTj-WDgTTbS"
      },
      "execution_count": 3,
      "outputs": []
    },
    {
      "cell_type": "code",
      "source": [
        "data = Planetoid(\n",
        "                root=data_dir, \n",
        "                name=dataset, \n",
        "                transform=NormalizeFeatures()\n",
        "                )"
      ],
      "metadata": {
        "id": "m1-bzIbbTopq",
        "colab": {
          "base_uri": "https://localhost:8080/"
        },
        "outputId": "8601a115-0ad8-41e6-a723-7c5f3693b97d"
      },
      "execution_count": 4,
      "outputs": [
        {
          "output_type": "stream",
          "name": "stderr",
          "text": [
            "Downloading https://github.com/kimiyoung/planetoid/raw/master/data/ind.cora.x\n",
            "Downloading https://github.com/kimiyoung/planetoid/raw/master/data/ind.cora.tx\n",
            "Downloading https://github.com/kimiyoung/planetoid/raw/master/data/ind.cora.allx\n",
            "Downloading https://github.com/kimiyoung/planetoid/raw/master/data/ind.cora.y\n",
            "Downloading https://github.com/kimiyoung/planetoid/raw/master/data/ind.cora.ty\n",
            "Downloading https://github.com/kimiyoung/planetoid/raw/master/data/ind.cora.ally\n",
            "Downloading https://github.com/kimiyoung/planetoid/raw/master/data/ind.cora.graph\n",
            "Downloading https://github.com/kimiyoung/planetoid/raw/master/data/ind.cora.test.index\n",
            "Processing...\n",
            "Done!\n"
          ]
        }
      ]
    },
    {
      "cell_type": "code",
      "source": [
        "print(\"Dataset type: \", type(data))\n",
        "print(\"Dataset features: \", data.num_features)\n",
        "print(\"Dataset target: \", data.num_classes)\n",
        "print(\"Dataset length: \", data.len)\n",
        "print(\"Dataset sample: \", data[0])\n",
        "print(\"Sample  nodes: \", data[0].num_nodes)\n",
        "print(\"Sample  edges: \", data[0].num_edges)\n",
        "print(\"No: of Graphs: \", len(data))\n",
        "\n",
        "\n",
        "data0 = data[0]  # Get the first graph object.\n",
        "print('=============================================================')\n",
        "\n",
        "# Gather some statistics about the first graph.\n",
        "print(f'Number of nodes: {data0.num_nodes}')\n",
        "print(f'Number of edges: {data0.num_edges}')\n",
        "print(f'Average node degree: {data0.num_edges / data0.num_nodes:.2f}')\n",
        "print(f'Has isolated nodes: {data0.has_isolated_nodes()}')\n",
        "print(f'Has self-loops: {data0.has_self_loops()}')\n",
        "print(f'Is undirected: {data0.is_undirected()}')"
      ],
      "metadata": {
        "id": "QdFiaFsjT50R",
        "colab": {
          "base_uri": "https://localhost:8080/"
        },
        "outputId": "f3662d39-4d68-46f8-ff74-332696ce67c2"
      },
      "execution_count": 5,
      "outputs": [
        {
          "output_type": "stream",
          "name": "stdout",
          "text": [
            "Dataset type:  <class 'torch_geometric.datasets.planetoid.Planetoid'>\n",
            "Dataset features:  1433\n",
            "Dataset target:  7\n",
            "Dataset length:  <bound method InMemoryDataset.len of Cora()>\n",
            "Dataset sample:  Data(x=[2708, 1433], edge_index=[2, 10556], y=[2708], train_mask=[2708], val_mask=[2708], test_mask=[2708])\n",
            "Sample  nodes:  2708\n",
            "Sample  edges:  10556\n",
            "No: of Graphs:  1\n",
            "=============================================================\n",
            "Number of nodes: 2708\n",
            "Number of edges: 10556\n",
            "Average node degree: 3.90\n",
            "Has isolated nodes: False\n",
            "Has self-loops: False\n",
            "Is undirected: True\n"
          ]
        }
      ]
    },
    {
      "cell_type": "markdown",
      "source": [
        ""
      ],
      "metadata": {
        "id": "iiCXfZ0aQlxI"
      }
    },
    {
      "cell_type": "markdown",
      "source": [
        "## EACH NODE REPRESENT AS A EMBEDDING VECTOR WITH SIZE OF 1433 INDICES"
      ],
      "metadata": {
        "id": "m48Ii3j-Ql3-"
      }
    },
    {
      "cell_type": "code",
      "source": [
        "graph0 = to_networkx(data0, to_undirected=True)\n",
        "nx.draw(graph0)"
      ],
      "metadata": {
        "colab": {
          "base_uri": "https://localhost:8080/",
          "height": 319
        },
        "id": "tRAXpuGoMvWW",
        "outputId": "960ce53b-67de-4236-fca8-2556d9d7c1bc"
      },
      "execution_count": 6,
      "outputs": [
        {
          "output_type": "display_data",
          "data": {
            "text/plain": [
              "<Figure size 432x288 with 1 Axes>"
            ],
            "image/png": "[encoded data removed]"
          },
          "metadata": {}
        }
      ]
    },
    {
      "cell_type": "code",
      "source": [
        "class GCN(torch.nn.Module):\n",
        "    def __init__(self, hidden_channels=32):\n",
        "        super(GCN, self).__init__()\n",
        "        torch.manual_seed(42)\n",
        "\n",
        "        # Initialize the layers\n",
        "        self.conv1 = GCNConv(data.num_features, hidden_channels)\n",
        "        self.conv2 = GCNConv(hidden_channels, hidden_channels)\n",
        "        self.out = Linear(hidden_channels, data.num_classes)\n",
        "\n",
        "    def forward(self, x, edge_index):\n",
        "        # First Message Passing Layer (Transformation)\n",
        "        x = self.conv1(x, edge_index)\n",
        "        x = x.relu()\n",
        "        x = F.dropout(x, p=0.5, training=self.training)\n",
        "\n",
        "        # Second Message Passing Layer\n",
        "        x = self.conv2(x, edge_index)\n",
        "        x = x.relu()\n",
        "        x = F.dropout(x, p=0.5, training=self.training)\n",
        "\n",
        "        # Output layer \n",
        "        x = self.out(x)\n",
        "        x = F.softmax(x, dim=1)\n",
        "        return x"
      ],
      "metadata": {
        "id": "lx82UGaoO4gf"
      },
      "execution_count": 7,
      "outputs": []
    },
    {
      "cell_type": "code",
      "source": [
        "model = GCN()\n",
        "model"
      ],
      "metadata": {
        "colab": {
          "base_uri": "https://localhost:8080/"
        },
        "id": "vKgaJQTLSRfF",
        "outputId": "e51eada7-3f05-4016-fd03-5206dd48ad58"
      },
      "execution_count": 8,
      "outputs": [
        {
          "output_type": "execute_result",
          "data": {
            "text/plain": [
              "GCN(\n",
              "  (conv1): GCNConv(1433, 32)\n",
              "  (conv2): GCNConv(32, 32)\n",
              "  (out): Linear(in_features=32, out_features=7, bias=True)\n",
              ")"
            ]
          },
          "metadata": {},
          "execution_count": 8
        }
      ]
    },
    {
      "cell_type": "code",
      "source": [
        "class NodeClassification(object):\n",
        "    def __init__(self):\n",
        "        self.loss_fn = torch.nn.CrossEntropyLoss()\n",
        "        self.optimizer = torch.optim.Adam(\n",
        "                                    model.parameters(), \n",
        "                                    lr = 0.01\n",
        "                                    )  \n",
        "\n",
        "        # Use GPU for training\n",
        "        self.device = torch.device(\"cuda:0\" if torch.cuda.is_available() else \"cpu\")\n",
        "        self.model = model.to(self.device)\n",
        "\n",
        "        self.X = data0.x.to(self.device)\n",
        "        self.Y = data0.y.to(self.device)\n",
        "\n",
        "        self.Xtrain = data0.x[data0.train_mask].to(self.device)  \n",
        "        self.Ytrain = data0.y[data0.train_mask].to(self.device)  \n",
        "\n",
        "        self.Xtest = data0.x[data0.test_mask].to(self.device)  \n",
        "        self.Ytest = data0.y[data0.test_mask].to(self.device)  \n",
        "\n",
        "        self.Xval = data0.x[data0.val_mask].to(self.device)  \n",
        "        self.Yval = data0.y[data0.val_mask].to(self.device)\n",
        "\n",
        "        self.edge_index = data0.edge_index.to(self.device)\n",
        "\n",
        "    def train_epoch(self):\n",
        "        self.model.train()\n",
        "        self.optimizer.zero_grad() \n",
        "\n",
        "        pred = self.model(self.X, self.edge_index) \n",
        "        Ptrain = pred[data0.train_mask]\n",
        "\n",
        "        loss = self.loss_fn(Ptrain, self.Ytrain)     \n",
        "        loss.backward()  \n",
        "        self.optimizer.step() \n",
        "\n",
        "        return loss, Ptrain\n",
        "\n",
        "    def accuracy(self, y, p):\n",
        "        p = p.detach().cpu().numpy().argmax(axis=-1)\n",
        "        y = y.cpu().numpy()\n",
        "\n",
        "        return np.mean(p == y)\n",
        "\n",
        "    def train(self, epoches = 2000):\n",
        "        print(\"Starting training...\")\n",
        "        losses = []\n",
        "        val_losses = []\n",
        "        for epoch in range(epoches + 1):\n",
        "            loss, Ptrain = self.train_epoch()\n",
        "            loss = round(loss.item(), 3)  \n",
        "            train_acc = round(self.accuracy(self.Ytrain, Ptrain), 3)  \n",
        "            losses.append(loss)\n",
        "            if epoch % 100 == 0:\n",
        "                with torch.no_grad():\n",
        "                    pred = self.model(self.X, self.edge_index) \n",
        "                    Pval = pred[data0.val_mask]\n",
        "                    val_loss = round(self.loss_fn(Pval, self.Yval).item(), 3)   \n",
        "                    val_acc = round(self.accuracy(self.Yval, Pval), 3)  \n",
        "                    val_losses.append(val_loss)\n",
        "                print(f\"Epoch {epoch} | Train Loss {loss} | Val Loss {val_loss} | Train Acc {train_acc} | Val Acc {val_acc}\")"
      ],
      "metadata": {
        "id": "1WP1DemfSTKM"
      },
      "execution_count": 35,
      "outputs": []
    },
    {
      "cell_type": "code",
      "source": [
        "classifier = NodeClassification()\n",
        "classifier.train()"
      ],
      "metadata": {
        "colab": {
          "base_uri": "https://localhost:8080/"
        },
        "id": "LAcQK7TIcPP_",
        "outputId": "c8ea444f-7ef5-4418-89fb-0002693d8cc1"
      },
      "execution_count": 36,
      "outputs": [
        {
          "output_type": "stream",
          "name": "stdout",
          "text": [
            "Starting training...\n",
            "Epoch 0 | Train Loss 1.168 | Val Loss 1.435 | Train Acc 1.0 | Val Acc 0.724\n",
            "Epoch 100 | Train Loss 1.166 | Val Loss 1.466 | Train Acc 1.0 | Val Acc 0.7\n",
            "Epoch 200 | Train Loss 1.166 | Val Loss 1.453 | Train Acc 1.0 | Val Acc 0.714\n",
            "Epoch 300 | Train Loss 1.171 | Val Loss 1.465 | Train Acc 0.993 | Val Acc 0.688\n",
            "Epoch 400 | Train Loss 1.167 | Val Loss 1.456 | Train Acc 1.0 | Val Acc 0.702\n",
            "Epoch 500 | Train Loss 1.166 | Val Loss 1.467 | Train Acc 1.0 | Val Acc 0.7\n",
            "Epoch 600 | Train Loss 1.171 | Val Loss 1.441 | Train Acc 0.993 | Val Acc 0.732\n",
            "Epoch 700 | Train Loss 1.166 | Val Loss 1.439 | Train Acc 1.0 | Val Acc 0.728\n",
            "Epoch 800 | Train Loss 1.166 | Val Loss 1.437 | Train Acc 1.0 | Val Acc 0.728\n",
            "Epoch 900 | Train Loss 1.178 | Val Loss 1.465 | Train Acc 0.986 | Val Acc 0.702\n",
            "Epoch 1000 | Train Loss 1.169 | Val Loss 1.454 | Train Acc 1.0 | Val Acc 0.708\n",
            "Epoch 1100 | Train Loss 1.171 | Val Loss 1.473 | Train Acc 0.993 | Val Acc 0.69\n",
            "Epoch 1200 | Train Loss 1.166 | Val Loss 1.448 | Train Acc 1.0 | Val Acc 0.716\n",
            "Epoch 1300 | Train Loss 1.18 | Val Loss 1.462 | Train Acc 0.986 | Val Acc 0.698\n",
            "Epoch 1400 | Train Loss 1.167 | Val Loss 1.454 | Train Acc 1.0 | Val Acc 0.71\n",
            "Epoch 1500 | Train Loss 1.173 | Val Loss 1.451 | Train Acc 0.993 | Val Acc 0.714\n",
            "Epoch 1600 | Train Loss 1.166 | Val Loss 1.438 | Train Acc 1.0 | Val Acc 0.73\n",
            "Epoch 1700 | Train Loss 1.166 | Val Loss 1.477 | Train Acc 1.0 | Val Acc 0.688\n",
            "Epoch 1800 | Train Loss 1.173 | Val Loss 1.455 | Train Acc 0.993 | Val Acc 0.708\n",
            "Epoch 1900 | Train Loss 1.166 | Val Loss 1.47 | Train Acc 1.0 | Val Acc 0.692\n",
            "Epoch 2000 | Train Loss 1.165 | Val Loss 1.45 | Train Acc 1.0 | Val Acc 0.716\n"
          ]
        }
      ]
    }
  ]
}