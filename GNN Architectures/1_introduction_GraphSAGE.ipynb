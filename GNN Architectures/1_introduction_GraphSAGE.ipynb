{
  "cells": [
    {
      "cell_type": "markdown",
      "metadata": {
        "colab_type": "text",
        "id": "view-in-github"
      },
      "source": [
        "<a href=\"https://colab.research.google.com/github/1zuu/Machine-Learning-With-Graphs/blob/main/1_introduction_GraphSAGE.ipynb\" target=\"_parent\"><img src=\"https://colab.research.google.com/assets/colab-badge.svg\" alt=\"Open In Colab\"/></a>"
      ]
    },
    {
      "cell_type": "markdown",
      "metadata": {
        "id": "Neiz9xmp0fRe"
      },
      "source": [
        "# **Dependency Installation**"
      ]
    },
    {
      "cell_type": "code",
      "execution_count": 1,
      "metadata": {
        "colab": {
          "base_uri": "https://localhost:8080/"
        },
        "id": "9k1No9l--lF-",
        "outputId": "09480f9e-4aa7-4b59-8018-1379c9084709"
      },
      "outputs": [
        {
          "name": "stdout",
          "output_type": "stream",
          "text": [
            "Looking in indexes: https://pypi.org/simple, https://us-python.pkg.dev/colab-wheels/public/simple/\n",
            "Looking in links: https://data.pyg.org/whl/torch-1.11.0+cu113.html\n",
            "Collecting torch-scatter\n",
            "  Downloading https://data.pyg.org/whl/torch-1.11.0%2Bcu113/torch_scatter-2.0.9-cp37-cp37m-linux_x86_64.whl (7.9 MB)\n",
            "\u001b[K     |████████████████████████████████| 7.9 MB 4.2 MB/s \n",
            "\u001b[?25hInstalling collected packages: torch-scatter\n",
            "Successfully installed torch-scatter-2.0.9\n",
            "Looking in indexes: https://pypi.org/simple, https://us-python.pkg.dev/colab-wheels/public/simple/\n",
            "Looking in links: https://data.pyg.org/whl/torch-1.11.0+cu113.html\n",
            "Collecting torch-sparse\n",
            "  Downloading https://data.pyg.org/whl/torch-1.11.0%2Bcu113/torch_sparse-0.6.13-cp37-cp37m-linux_x86_64.whl (3.5 MB)\n",
            "\u001b[K     |████████████████████████████████| 3.5 MB 1.1 MB/s \n",
            "\u001b[?25hRequirement already satisfied: scipy in /usr/local/lib/python3.7/dist-packages (from torch-sparse) (1.4.1)\n",
            "Requirement already satisfied: numpy>=1.13.3 in /usr/local/lib/python3.7/dist-packages (from scipy->torch-sparse) (1.21.6)\n",
            "Installing collected packages: torch-sparse\n",
            "Successfully installed torch-sparse-0.6.13\n",
            "Looking in indexes: https://pypi.org/simple, https://us-python.pkg.dev/colab-wheels/public/simple/\n",
            "Looking in links: https://data.pyg.org/whl/torch-1.11.0+cu113.html\n",
            "Collecting torch-cluster\n",
            "  Downloading https://data.pyg.org/whl/torch-1.11.0%2Bcu113/torch_cluster-1.6.0-cp37-cp37m-linux_x86_64.whl (2.5 MB)\n",
            "\u001b[K     |████████████████████████████████| 2.5 MB 4.2 MB/s \n",
            "\u001b[?25hInstalling collected packages: torch-cluster\n",
            "Successfully installed torch-cluster-1.6.0\n",
            "Looking in indexes: https://pypi.org/simple, https://us-python.pkg.dev/colab-wheels/public/simple/\n",
            "Looking in links: https://data.pyg.org/whl/torch-1.11.0+cu113.html\n",
            "Collecting torch-spline-conv\n",
            "  Downloading https://data.pyg.org/whl/torch-1.11.0%2Bcu113/torch_spline_conv-1.2.1-cp37-cp37m-linux_x86_64.whl (750 kB)\n",
            "\u001b[K     |████████████████████████████████| 750 kB 2.2 MB/s \n",
            "\u001b[?25hInstalling collected packages: torch-spline-conv\n",
            "Successfully installed torch-spline-conv-1.2.1\n",
            "Looking in indexes: https://pypi.org/simple, https://us-python.pkg.dev/colab-wheels/public/simple/\n",
            "Collecting torch-geometric\n",
            "  Downloading torch_geometric-2.0.4.tar.gz (407 kB)\n",
            "\u001b[K     |████████████████████████████████| 407 kB 4.3 MB/s \n",
            "\u001b[?25hRequirement already satisfied: tqdm in /usr/local/lib/python3.7/dist-packages (from torch-geometric) (4.64.0)\n",
            "Requirement already satisfied: numpy in /usr/local/lib/python3.7/dist-packages (from torch-geometric) (1.21.6)\n",
            "Requirement already satisfied: scipy in /usr/local/lib/python3.7/dist-packages (from torch-geometric) (1.4.1)\n",
            "Requirement already satisfied: pandas in /usr/local/lib/python3.7/dist-packages (from torch-geometric) (1.3.5)\n",
            "Requirement already satisfied: jinja2 in /usr/local/lib/python3.7/dist-packages (from torch-geometric) (2.11.3)\n",
            "Requirement already satisfied: requests in /usr/local/lib/python3.7/dist-packages (from torch-geometric) (2.23.0)\n",
            "Requirement already satisfied: pyparsing in /usr/local/lib/python3.7/dist-packages (from torch-geometric) (3.0.9)\n",
            "Requirement already satisfied: scikit-learn in /usr/local/lib/python3.7/dist-packages (from torch-geometric) (1.0.2)\n",
            "Requirement already satisfied: MarkupSafe>=0.23 in /usr/local/lib/python3.7/dist-packages (from jinja2->torch-geometric) (2.0.1)\n",
            "Requirement already satisfied: python-dateutil>=2.7.3 in /usr/local/lib/python3.7/dist-packages (from pandas->torch-geometric) (2.8.2)\n",
            "Requirement already satisfied: pytz>=2017.3 in /usr/local/lib/python3.7/dist-packages (from pandas->torch-geometric) (2022.1)\n",
            "Requirement already satisfied: six>=1.5 in /usr/local/lib/python3.7/dist-packages (from python-dateutil>=2.7.3->pandas->torch-geometric) (1.15.0)\n",
            "Requirement already satisfied: chardet<4,>=3.0.2 in /usr/local/lib/python3.7/dist-packages (from requests->torch-geometric) (3.0.4)\n",
            "Requirement already satisfied: urllib3!=1.25.0,!=1.25.1,<1.26,>=1.21.1 in /usr/local/lib/python3.7/dist-packages (from requests->torch-geometric) (1.24.3)\n",
            "Requirement already satisfied: idna<3,>=2.5 in /usr/local/lib/python3.7/dist-packages (from requests->torch-geometric) (2.10)\n",
            "Requirement already satisfied: certifi>=2017.4.17 in /usr/local/lib/python3.7/dist-packages (from requests->torch-geometric) (2022.5.18.1)\n",
            "Requirement already satisfied: threadpoolctl>=2.0.0 in /usr/local/lib/python3.7/dist-packages (from scikit-learn->torch-geometric) (3.1.0)\n",
            "Requirement already satisfied: joblib>=0.11 in /usr/local/lib/python3.7/dist-packages (from scikit-learn->torch-geometric) (1.1.0)\n",
            "Building wheels for collected packages: torch-geometric\n",
            "  Building wheel for torch-geometric (setup.py) ... \u001b[?25l\u001b[?25hdone\n",
            "  Created wheel for torch-geometric: filename=torch_geometric-2.0.4-py3-none-any.whl size=616603 sha256=959869a47b43d563894e7252d5ff406be7ceabd2e29509850c951f6517e79052\n",
            "  Stored in directory: /root/.cache/pip/wheels/18/a6/a4/ca18c3051fcead866fe7b85700ee2240d883562a1bc70ce421\n",
            "Successfully built torch-geometric\n",
            "Installing collected packages: torch-geometric\n",
            "Successfully installed torch-geometric-2.0.4\n"
          ]
        }
      ],
      "source": [
        "import torch\n",
        "\n",
        "def format_pytorch_version(version):\n",
        "  return version.split('+')[0]\n",
        "\n",
        "TORCH_version = torch.__version__\n",
        "TORCH = format_pytorch_version(TORCH_version)\n",
        "\n",
        "def format_cuda_version(version):\n",
        "  return 'cu' + version.replace('.', '')\n",
        "\n",
        "CUDA_version = torch.version.cuda\n",
        "CUDA = format_cuda_version(CUDA_version)\n",
        "\n",
        "!pip install torch-scatter -f https://data.pyg.org/whl/torch-{TORCH}+{CUDA}.html\n",
        "!pip install torch-sparse -f https://data.pyg.org/whl/torch-{TORCH}+{CUDA}.html\n",
        "!pip install torch-cluster -f https://data.pyg.org/whl/torch-{TORCH}+{CUDA}.html\n",
        "!pip install torch-spline-conv -f https://data.pyg.org/whl/torch-{TORCH}+{CUDA}.html\n",
        "!pip install torch-geometric"
      ]
    },
    {
      "cell_type": "markdown",
      "metadata": {
        "id": "0Sc85FcY_IuD"
      },
      "source": [
        "# **Import Dependencies & Mount Gdrive**"
      ]
    },
    {
      "cell_type": "code",
      "execution_count": 2,
      "metadata": {
        "colab": {
          "base_uri": "https://localhost:8080/"
        },
        "id": "DFVFlOtiyxoc",
        "outputId": "9c18021a-a763-4e9e-e062-8e185a054344"
      },
      "outputs": [
        {
          "name": "stdout",
          "output_type": "stream",
          "text": [
            "Mounted at /content/drive\n"
          ]
        }
      ],
      "source": [
        "import torch, os\n",
        "import torch.nn.functional as F\n",
        "from torch_geometric.nn import SAGEConv\n",
        "from torch_geometric.datasets import Planetoid\n",
        "\n",
        "from google.colab import drive\n",
        "drive.mount('/content/drive')"
      ]
    },
    {
      "cell_type": "markdown",
      "metadata": {
        "id": "FHHLyFUcAeIz"
      },
      "source": [
        "# **Data Paths, Paramaters & variables**"
      ]
    },
    {
      "cell_type": "code",
      "execution_count": 3,
      "metadata": {
        "id": "yarBlneUAL0K"
      },
      "outputs": [],
      "source": [
        "working_dir = '/content/drive/My Drive/Colab Notebooks/machine-learning-with-graphs/'\n",
        "\n",
        "data_folder = 'data/Planetoid'\n",
        "data_dir = os.path.join(working_dir, data_folder)"
      ]
    },
    {
      "cell_type": "markdown",
      "metadata": {
        "id": "Eu9351ez_XPf"
      },
      "source": [
        "# **Load Dataset**"
      ]
    },
    {
      "cell_type": "code",
      "execution_count": 4,
      "metadata": {
        "id": "FEyJw34W_WF4"
      },
      "outputs": [],
      "source": [
        "dataset = Planetoid(\n",
        "                  root=data_dir, \n",
        "                  name='Cora'\n",
        "                  )"
      ]
    },
    {
      "cell_type": "markdown",
      "metadata": {
        "id": "ha1IEZYtBfIV"
      },
      "source": [
        "*dataset* *properties*"
      ]
    },
    {
      "cell_type": "code",
      "execution_count": 5,
      "metadata": {
        "colab": {
          "base_uri": "https://localhost:8080/"
        },
        "id": "P3ZHGaNz0Yud",
        "outputId": "03e285eb-d200-4412-efdb-d93fef40f9b2"
      },
      "outputs": [
        {
          "name": "stdout",
          "output_type": "stream",
          "text": [
            "Cora()\n",
            "number of graphs           :  1\n",
            "number of classes          :  7\n",
            "number of node features    :  1433\n",
            "number of edge features    :  0\n"
          ]
        }
      ],
      "source": [
        "print(dataset)\n",
        "print(\"number of graphs           : \",len(dataset))\n",
        "print(\"number of classes          : \",dataset.num_classes)\n",
        "print(\"number of node features    : \",dataset.num_node_features)\n",
        "print(\"number of edge features    : \",dataset.num_edge_features)"
      ]
    },
    {
      "cell_type": "markdown",
      "metadata": {
        "id": "080m8SklWCtY"
      },
      "source": [
        "Dataset *shapes*"
      ]
    },
    {
      "cell_type": "code",
      "execution_count": 6,
      "metadata": {
        "colab": {
          "base_uri": "https://localhost:8080/"
        },
        "id": "48ItXuDhRvkr",
        "outputId": "703d1929-2fc0-4c56-d4c9-ba05f9945b1e"
      },
      "outputs": [
        {
          "name": "stdout",
          "output_type": "stream",
          "text": [
            "Data(x=[2708, 1433], edge_index=[2, 10556], y=[2708], train_mask=[2708], val_mask=[2708], test_mask=[2708])\n"
          ]
        }
      ],
      "source": [
        "'''\n",
        "|V| = N = 2708\n",
        "Embedding Dim (D) = 2708\n",
        "\n",
        "'''\n",
        "print(dataset.data)"
      ]
    },
    {
      "cell_type": "code",
      "execution_count": 7,
      "metadata": {
        "colab": {
          "base_uri": "https://localhost:8080/"
        },
        "id": "Ev46CfiVWILD",
        "outputId": "c7971b49-63fe-4a1e-9281-783d7a2e565c"
      },
      "outputs": [
        {
          "name": "stdout",
          "output_type": "stream",
          "text": [
            "edge_index :  torch.Size([2, 10556])\n",
            "tensor([[   0,    0,    0,  ..., 2707, 2707, 2707],\n",
            "        [ 633, 1862, 2582,  ...,  598, 1473, 2706]])\n"
          ]
        }
      ],
      "source": [
        "print(\"edge_index : \",dataset.data.edge_index.shape)\n",
        "print(dataset.data.edge_index)"
      ]
    },
    {
      "cell_type": "code",
      "execution_count": 8,
      "metadata": {
        "colab": {
          "base_uri": "https://localhost:8080/"
        },
        "id": "HW3scsfFWTN7",
        "outputId": "ed5e2d03-90c6-4ed7-f4e4-ee96a21dbaca"
      },
      "outputs": [
        {
          "name": "stdout",
          "output_type": "stream",
          "text": [
            "train_mask :  torch.Size([2708])\n",
            "tensor([ True,  True,  True,  ..., False, False, False])\n"
          ]
        }
      ],
      "source": [
        "print(\"train_mask : \",dataset.data.train_mask.shape)\n",
        "print(dataset.data.train_mask)\n"
      ]
    },
    {
      "cell_type": "code",
      "execution_count": 9,
      "metadata": {
        "colab": {
          "base_uri": "https://localhost:8080/"
        },
        "id": "VY-jKNlIWZNe",
        "outputId": "2565e78a-5468-4e2e-ad4d-57159459a1f0"
      },
      "outputs": [
        {
          "name": "stdout",
          "output_type": "stream",
          "text": [
            "x :  torch.Size([2708, 1433])\n",
            "tensor([[0., 0., 0.,  ..., 0., 0., 0.],\n",
            "        [0., 0., 0.,  ..., 0., 0., 0.],\n",
            "        [0., 0., 0.,  ..., 0., 0., 0.],\n",
            "        ...,\n",
            "        [0., 0., 0.,  ..., 0., 0., 0.],\n",
            "        [0., 0., 0.,  ..., 0., 0., 0.],\n",
            "        [0., 0., 0.,  ..., 0., 0., 0.]])\n"
          ]
        }
      ],
      "source": [
        "print(\"x : \",dataset.data.x.shape)\n",
        "print(dataset.data.x)\n"
      ]
    },
    {
      "cell_type": "code",
      "execution_count": 10,
      "metadata": {
        "colab": {
          "base_uri": "https://localhost:8080/"
        },
        "id": "ApXuubN8WaZS",
        "outputId": "80018702-de79-416a-8cde-6a0890a21a4b"
      },
      "outputs": [
        {
          "name": "stdout",
          "output_type": "stream",
          "text": [
            "y :  torch.Size([2708])\n",
            "tensor([3, 4, 4,  ..., 3, 3, 3])\n"
          ]
        }
      ],
      "source": [
        "print(\"y : \",dataset.data.y.shape)\n",
        "print(dataset.data.y)"
      ]
    },
    {
      "cell_type": "code",
      "execution_count": 11,
      "metadata": {
        "colab": {
          "base_uri": "https://localhost:8080/"
        },
        "id": "D6BQgiMkWmUq",
        "outputId": "89da4f05-1811-420f-c2be-3cb126a4d7d5"
      },
      "outputs": [
        {
          "name": "stdout",
          "output_type": "stream",
          "text": [
            "Train Size : 140\n",
            "Test  Size : 1000\n",
            "valid Size : 500\n"
          ]
        }
      ],
      "source": [
        "print(f\"Train Size : {dataset.data.train_mask.sum()}\")\n",
        "print(f\"Test  Size : {dataset.data.test_mask.sum()}\")\n",
        "print(f\"valid Size : {dataset.data.val_mask.sum()}\")"
      ]
    },
    {
      "cell_type": "code",
      "execution_count": 12,
      "metadata": {
        "colab": {
          "base_uri": "https://localhost:8080/"
        },
        "id": "UKk-WxA1f1hb",
        "outputId": "7c09ac33-9ca4-4a10-83b4-70ff72495904"
      },
      "outputs": [
        {
          "data": {
            "text/plain": [
              "tensor(140)"
            ]
          },
          "execution_count": 12,
          "metadata": {},
          "output_type": "execute_result"
        }
      ],
      "source": [
        "torch.sum(dataset.data.train_mask)"
      ]
    },
    {
      "cell_type": "markdown",
      "metadata": {
        "id": "Lvr2EDbQ-65r"
      },
      "source": [
        "# **Graph Neural Network Designing (GraphSAGE)**"
      ]
    },
    {
      "cell_type": "code",
      "execution_count": 15,
      "metadata": {
        "id": "PGGgkgf6-ONP"
      },
      "outputs": [],
      "source": [
        "class GraphSAGE(torch.nn.Module):\n",
        "    def __init__(self, data):\n",
        "        super(GraphSAGE, self).__init__()\n",
        "        \n",
        "        self.conv = SAGEConv(\n",
        "                        dataset.num_features,\n",
        "                        dataset.num_classes,\n",
        "                        aggr=\"max\"\n",
        "                        ) # max, mean, add ...)\n",
        "        self.data = data\n",
        "\n",
        "    def forward(self):\n",
        "        x = self.conv(self.data.x, self.data.edge_index)\n",
        "        return F.log_softmax(x, dim=1)"
      ]
    },
    {
      "cell_type": "markdown",
      "metadata": {
        "id": "p-C69EEf2tJq"
      },
      "source": [
        "# **Train GraphSAGE**"
      ]
    },
    {
      "cell_type": "code",
      "execution_count": 18,
      "metadata": {
        "id": "g3NX-cjsBAcZ"
      },
      "outputs": [],
      "source": [
        "class NodeClassification(object):\n",
        "    def __init__(self):\n",
        "        self.data = dataset[0]\n",
        "        self.device = torch.device('cuda' if torch.cuda.is_available() else 'cpu')\n",
        "        self.model = GraphSAGE(self.data).to(self.device)\n",
        "        self.data = self.data.to(self.device)\n",
        "        self.optimizer = torch.optim.Adam(\n",
        "                            self.model.parameters(), \n",
        "                            weight_decay=5e-4, \n",
        "                            lr=0.01\n",
        "                            )\n",
        "        \n",
        "    def train(self):\n",
        "        self.model.train()\n",
        "        self.optimizer.zero_grad()\n",
        "\n",
        "        loss = F.nll_loss(self.model()[self.data.train_mask], self.data.y[self.data.train_mask])\n",
        "        loss.backward()\n",
        "\n",
        "        self.optimizer.step()\n",
        "\n",
        "\n",
        "    def test(self):\n",
        "        self.model.eval()\n",
        "        logits, accs = self.model(), []\n",
        "        for _, mask in self.data('train_mask', 'val_mask', 'test_mask'):\n",
        "            pred = logits[mask].max(1)[1]\n",
        "            acc = pred.eq(self.data.y[mask]).sum().item() / mask.sum().item()\n",
        "            accs.append(acc)\n",
        "        return accs\n",
        "\n",
        "    def train_loop(self):\n",
        "        best_val_acc = test_acc = 0\n",
        "        for epoch in range(1,101):\n",
        "            self.train()\n",
        "            _, val_acc, tmp_test_acc = self.test()\n",
        "            if val_acc > best_val_acc:\n",
        "                best_val_acc = val_acc\n",
        "                test_acc = tmp_test_acc\n",
        "            log = 'Epoch: {:03d}, Val: {:.4f}, Test: {:.4f}'\n",
        "            \n",
        "            if epoch % 10 == 0:\n",
        "                print(log.format(epoch, best_val_acc, test_acc))"
      ]
    },
    {
      "cell_type": "code",
      "execution_count": 19,
      "metadata": {
        "colab": {
          "base_uri": "https://localhost:8080/"
        },
        "id": "Ze7XFZfDBZJ3",
        "outputId": "c6e1438b-f6c3-4f39-8c91-783dca24095e"
      },
      "outputs": [
        {
          "name": "stdout",
          "output_type": "stream",
          "text": [
            "Epoch: 010, Val: 0.7420, Test: 0.7200\n",
            "Epoch: 020, Val: 0.7420, Test: 0.7200\n",
            "Epoch: 030, Val: 0.7420, Test: 0.7200\n",
            "Epoch: 040, Val: 0.7420, Test: 0.7200\n",
            "Epoch: 050, Val: 0.7420, Test: 0.7200\n",
            "Epoch: 060, Val: 0.7420, Test: 0.7200\n",
            "Epoch: 070, Val: 0.7420, Test: 0.7200\n",
            "Epoch: 080, Val: 0.7420, Test: 0.7200\n",
            "Epoch: 090, Val: 0.7420, Test: 0.7200\n"
          ]
        }
      ],
      "source": [
        "task = NodeClassification()\n",
        "task.train_loop()"
      ]
    }
  ],
  "metadata": {
    "colab": {
      "authorship_tag": "ABX9TyMOn4H8kl8Lk/SRrHqTnKV2",
      "collapsed_sections": [],
      "include_colab_link": true,
      "name": "1 . introduction - GraphSAGE.ipynb",
      "provenance": []
    },
    "kernelspec": {
      "display_name": "Python 3",
      "name": "python3"
    },
    "language_info": {
      "name": "python"
    }
  },
  "nbformat": 4,
  "nbformat_minor": 0
}
