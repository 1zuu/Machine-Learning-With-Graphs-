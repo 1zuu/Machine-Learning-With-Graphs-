{
 "cells": [
  {
   "cell_type": "code",
   "execution_count": 1,
   "metadata": {},
   "outputs": [],
   "source": [
    "import torch, os\n",
    "import torch.nn as nn\n",
    "import torch_geometric\n",
    "import torch.nn.functional as F\n",
    "from torch_geometric.utils.convert import to_networkx\n",
    "\n",
    "import numpy as np\n",
    "import pandas as pd\n",
    "import networkx as nx\n",
    "import matplotlib.pyplot as plt\n",
    "from sklearn.utils import shuffle\n",
    "from itertools import combinations"
   ]
  },
  {
   "cell_type": "markdown",
   "metadata": {},
   "source": [
    "## **Intuition**\n",
    "    disease - graph \n",
    "    symtoms - nodes"
   ]
  },
  {
   "cell_type": "code",
   "execution_count": 4,
   "metadata": {},
   "outputs": [],
   "source": [
    "node_features_csv = 'data/Symtoms/Symptom-severity.csv'\n",
    "graph_data_csv = 'data/Symtoms/dataset.csv'"
   ]
  },
  {
   "cell_type": "code",
   "execution_count": 5,
   "metadata": {},
   "outputs": [],
   "source": [
    "def extract_node_features():\n",
    "    df_node_features = pd.read_csv(node_features_csv)\n",
    "    df_node_features.Symptom = df_node_features.Symptom.str.lower()\n",
    "    df_node_features.Symptom = df_node_features.Symptom.str.strip()\n",
    "\n",
    "    Symptoms = df_node_features['Symptom'].values \n",
    "    Severities = df_node_features['weight'].values\n",
    "    feature_dict = {symtom : (idx, severity) for idx, (symtom, severity) in enumerate(zip(Symptoms, Severities))}\n",
    "    return feature_dict"
   ]
  },
  {
   "cell_type": "code",
   "execution_count": 6,
   "metadata": {},
   "outputs": [],
   "source": [
    "def extract_graph_data():\n",
    "    df_graph_data = pd.read_csv(graph_data_csv)\n",
    "    df_graph_data = shuffle(df_graph_data)\n",
    "    diseases = df_graph_data['Disease'].values\n",
    "\n",
    "    symtoms = df_graph_data.drop(['Disease'], axis=1)\n",
    "    symtoms = symtoms.astype(str)\n",
    "    for symtom in symtoms.columns:\n",
    "        symtoms[symtom] = symtoms[symtom].str.lower()\n",
    "        symtoms[symtom] = symtoms[symtom].str.strip()\n",
    "    symtoms = symtoms.values\n",
    "\n",
    "    graphs = {}\n",
    "    for disease, symtom_arr in zip(diseases, symtoms):\n",
    "        symtoms = [symtom for symtom in symtom_arr if symtom != 'nan']\n",
    "        if disease not in graphs:\n",
    "            graphs[disease] = [symtoms]\n",
    "        else:\n",
    "            graphs[disease].append(symtoms)\n",
    "\n",
    "    disease_dict = {disease : idx for idx, disease in enumerate(graphs.keys())}\n",
    "    return graphs, disease_dict\n",
    "\n",
    "def create_edges(symptom_arr):\n",
    "    symptom_arr = list(set(symptom_arr))\n",
    "    pairs_ij = list(combinations(symptom_arr, 2))\n",
    "    pairs_ji = [(j,i) for i,j in pairs_ij]\n",
    "    pairs = list(set(pairs_ij + pairs_ji))\n",
    "    src_node = [i for i,j in pairs]\n",
    "    dst_node = [j for i,j in pairs]\n",
    "    edge_index = torch.tensor([src_node, dst_node])\n",
    "    return edge_index\n",
    "\n",
    "def create_graph(graphs, feature_dict, disease_dict):\n",
    "    graph_obj_arr = []\n",
    "    for disease, symptoms in graphs.items():\n",
    "        for symptom_arr in symptoms:\n",
    "            feature_arr = [feature_dict[symptom][1] for symptom in symptom_arr]\n",
    "            symptom_arr = [feature_dict[symptom][0] for symptom in symptom_arr]\n",
    "            edge_index = create_edges(symptom_arr)\n",
    "            \n",
    "            x = np.array(feature_arr)\n",
    "            x = x.reshape(-1, 1)\n",
    "            x = torch.from_numpy(x)\n",
    "\n",
    "            y = disease_dict[disease]\n",
    "            y = torch.tensor([y])\n",
    "            graph_obj = torch_geometric.data.Data(\n",
    "                                                x = x,\n",
    "                                                edge_index = edge_index,\n",
    "                                                # y = y\n",
    "                                                )\n",
    "\n",
    "            graph_obj_arr.append(graph_obj)\n",
    "    graph_batch = torch_geometric.data.Batch().from_data_list(graph_obj_arr)\n",
    "    return graph_batch"
   ]
  },
  {
   "cell_type": "code",
   "execution_count": 7,
   "metadata": {},
   "outputs": [],
   "source": [
    "feature_dict = extract_node_features()\n",
    "graphs, disease_dict = extract_graph_data()\n",
    "graph_batch = create_graph(graphs, feature_dict, disease_dict)"
   ]
  },
  {
   "cell_type": "code",
   "execution_count": null,
   "metadata": {},
   "outputs": [],
   "source": []
  }
 ],
 "metadata": {
  "kernelspec": {
   "display_name": "Python 3.7.13 ('graph')",
   "language": "python",
   "name": "python3"
  },
  "language_info": {
   "codemirror_mode": {
    "name": "ipython",
    "version": 3
   },
   "file_extension": ".py",
   "mimetype": "text/x-python",
   "name": "python",
   "nbconvert_exporter": "python",
   "pygments_lexer": "ipython3",
   "version": "3.7.13"
  },
  "orig_nbformat": 4,
  "vscode": {
   "interpreter": {
    "hash": "4a3e424c1b8e95588f3cf11bd69bb9a4aea9190b642aedfe6d03a08de2fda68a"
   }
  }
 },
 "nbformat": 4,
 "nbformat_minor": 2
}
